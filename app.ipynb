{
 "cells": [
  {
   "cell_type": "code",
   "execution_count": 4,
   "metadata": {},
   "outputs": [],
   "source": [
    "import gradio as gr\n",
    "from LLM import getResponse, enhanceResponse\n"
   ]
  },
  {
   "cell_type": "code",
   "execution_count": 5,
   "metadata": {},
   "outputs": [
    {
     "name": "stdout",
     "output_type": "stream",
     "text": [
      "Starting...\n",
      "['convolutional neural networks (cnn) are a type of deep learning model used in machine learning for image and video processing tasks']\n",
      "00:00:00.919 00:00:38.680\n",
      "FCQ-rih6cHY\n",
      "Starting...\n",
      "['logistic regression is a statistical method used for binary classification problems in machine learning where it works by learning the relationship between the independent variables and the dependent variable to predict the outcome']\n",
      "00:10:48.440 00:26:40.559\n",
      "eFgkZKhNUdM\n"
     ]
    }
   ],
   "source": [
    "def stream_video(start_time, end_time, video_id):\n",
    "    html_code = f\"\"\"\n",
    "    <video id=\"myVideo\" width=\"640\" height=\"360\" controls autoplay muted playsinline>\n",
    "        <source src=\"https://huggingface.co/datasets/pleyva2004/Video_RAG_Model_Dataset/resolve/main/{video_id}.mp4\" type=\"video/mp4\">\n",
    "        Your browser does not support the video tag.\n",
    "    </video>\n",
    "    <script>\n",
    "        const video = document.getElementById('myVideo');\n",
    "        const startTime = {start_time};\n",
    "        const endTime = {end_time};\n",
    "\n",
    "        video.addEventListener('loadedmetadata', function() {{\n",
    "            function trySeek() {{\n",
    "                if (video.seekable.length > 0) {{\n",
    "                    video.currentTime = 50;\n",
    "                    video.play();\n",
    "                }} else {{\n",
    "                    setTimeout(trySeek, 200); // Try again in 200ms\n",
    "                }}\n",
    "            }}\n",
    "            trySeek();\n",
    "        }});\n",
    "\n",
    "        video.addEventListener('timeupdate', function() {{\n",
    "            if (video.currentTime >= endTime) {{\n",
    "                video.pause();\n",
    "            }}\n",
    "        }});\n",
    "    </script>\n",
    "    \"\"\"\n",
    "    return html_code\n",
    "\n",
    "\n",
    "def combined_interface(question):\n",
    "    response = getResponse(question)\n",
    "    text = response.get(\"chunk_text\")\n",
    "    start_time = (response.get(\"timestamp\")[0])\n",
    "    end_time = (response.get(\"timestamp\")[1])\n",
    "    print(start_time, end_time)\n",
    "    video_id = response.get(\"video_id\")\n",
    "    print(video_id)\n",
    "    enhanced_text = enhanceResponse(text, question) + \"\\n\\n\\n \" + \"Please view segment of the video from \" + str(start_time) + \" to \" + str(end_time)\n",
    "    video_html = stream_video(start_time, end_time, video_id)\n",
    "    return enhanced_text, video_html\n",
    "\n",
    "iface = gr.Interface(\n",
    "    fn=combined_interface,\n",
    "    inputs=[\n",
    "        gr.Textbox(lines=3, placeholder=\"Enter your question...\", label=\"Question\"),\n",
    "        ],\n",
    "    outputs=[\n",
    "        gr.Textbox(label=\"Answer\"),\n",
    "        gr.HTML(label=\"Video Player\")\n",
    "    ],\n",
    "    title=\"Video RAG Search Assistant\",\n",
    "    description=\"Ask questions about the video and watch relevant segments!\"\n",
    ")\n"
   ]
  },
  {
   "cell_type": "code",
   "execution_count": 6,
   "metadata": {},
   "outputs": [
    {
     "name": "stdout",
     "output_type": "stream",
     "text": [
      "* Running on local URL:  http://127.0.0.1:7861\n",
      "\n",
      "To create a public link, set `share=True` in `launch()`.\n"
     ]
    },
    {
     "data": {
      "text/html": [
       "<div><iframe src=\"http://127.0.0.1:7861/\" width=\"100%\" height=\"500\" allow=\"autoplay; camera; microphone; clipboard-read; clipboard-write;\" frameborder=\"0\" allowfullscreen></iframe></div>"
      ],
      "text/plain": [
       "<IPython.core.display.HTML object>"
      ]
     },
     "metadata": {},
     "output_type": "display_data"
    }
   ],
   "source": [
    "if __name__ == \"__main__\":\n",
    "    iface.launch()"
   ]
  }
 ],
 "metadata": {
  "kernelspec": {
   "display_name": "video-rag-model-z977jmQv-py3.12",
   "language": "python",
   "name": "python3"
  },
  "language_info": {
   "codemirror_mode": {
    "name": "ipython",
    "version": 3
   },
   "file_extension": ".py",
   "mimetype": "text/x-python",
   "name": "python",
   "nbconvert_exporter": "python",
   "pygments_lexer": "ipython3",
   "version": "3.12.0"
  }
 },
 "nbformat": 4,
 "nbformat_minor": 2
}
